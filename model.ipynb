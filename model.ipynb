{
 "cells": [
  {
   "cell_type": "code",
   "execution_count": 1,
   "metadata": {},
   "outputs": [
    {
     "data": {
      "image/png": "[encoded data removed]",
      "text/plain": [
       "<matplotlib.figure.Figure at 0x7f86ff1c3cf8>"
      ]
     },
     "metadata": {},
     "output_type": "display_data"
    }
   ],
   "source": [
    "import pandas as pd\n",
    "import numpy as np\n",
    "import matplotlib.pyplot as plt\n",
    "\n",
    "FILEPATH = '/media/vincent/home/data/'\n",
    "BALANCED_FILE = FILEPATH+'driving_log_balanced.csv'\n",
    "ORIGINAL_FILE = FILEPATH+'driving_log.csv'\n",
    "MODELPATH = FILEPATH+'model.h5'\n",
    "\n",
    "df = pd.read_csv(ORIGINAL_FILE)\n",
    "df.columns =['center', 'left', 'right', 'steering', 'throttle', 'brake', 'speed']\n",
    "balanced = pd.DataFrame() \t# Balanced dataset\n",
    "bins = 1000 \t\t\t\t# N of bins\n",
    "bin_n = 500\t\t\t# N of examples to include in each bin (at most)\n",
    "\n",
    "balanced_num =[]\n",
    "start = 0\n",
    "for end in np.linspace(0, 1, num=bins):  \n",
    "    df_range = df[(np.absolute(df.steering) >= start) & (np.absolute(df.steering) < end)]\n",
    "    range_n = min(bin_n, df_range.shape[0])\n",
    "    balanced_num.append(range_n)\n",
    "    if range_n != 0:\n",
    "        balanced = pd.concat([balanced, df_range.sample(range_n)])\n",
    "    start = end\n",
    "\n",
    "balanced.to_csv(BALANCED_FILE, index=False)\n",
    "\n",
    "plt.figure(figsize=(10, 4))\n",
    "plt.bar(range(len(balanced_num)), balanced_num, width=2)\n",
    "plt.show()"
   ]
  },
  {
   "cell_type": "code",
   "execution_count": 2,
   "metadata": {
    "collapsed": true
   },
   "outputs": [],
   "source": [
    "import cv2\n",
    "from scipy.misc import imresize\n",
    "\n",
    "def equal_Hist(img):\n",
    "    # Equalization Histogram\n",
    "    img_temp = img.copy()\n",
    "    img_temp[:,:,0] = cv2.equalizeHist(img[:, :, 0])\n",
    "    img_temp[:,:,1] = cv2.equalizeHist(img[:, :, 1])\n",
    "    img_temp[:,:,2] = cv2.equalizeHist(img[:, :, 2])\n",
    "    return img_temp\n",
    "\n",
    "def crop(img, margin=0):\n",
    "    return img[margin:(img.shape[0]-margin), margin:(img.shape[1]-margin)]\n",
    "\n",
    "def blur(img):\n",
    "    gb = cv2.GaussianBlur(img, (5,5), 20.0)\n",
    "    return cv2.addWeighted(img, 2, gb, -1, 0)\n",
    "\n",
    "def resize(image, new_size): \n",
    "    return imresize(image, new_size) \n",
    "\n",
    "def shadow(image):\n",
    "    img = np.copy(image)\n",
    "    h, w = image.shape[0], image.shape[1]\n",
    "    [x1, x2] = np.random.choice(w, 2, replace=False)\n",
    "    k = h / (x2 - x1)\n",
    "    b = - k * x1\n",
    "    for i in range(h):\n",
    "        c = int((i - b) / k)\n",
    "        img[i, :c, :] = (image[i, :c, :] * .5).astype(np.int32)\n",
    "    return img\n",
    "\n",
    "\n",
    "def random_gamma(image):\n",
    "    \"\"\"\n",
    "    Random gamma correction is used as an alternative method changing the brightness of\n",
    "    training images.\n",
    "    http://www.pyimagesearch.com/2015/10/05/opencv-gamma-correction/\n",
    "    :param image:\n",
    "        Source image\n",
    "    :return:\n",
    "        New image generated by applying gamma correction to the source image\n",
    "    \"\"\"\n",
    "    gamma = np.random.uniform(0.4, 1.5)\n",
    "    inv_gamma = 1.0 / gamma\n",
    "    table = np.array([((i / 255.0) ** inv_gamma) * 255\n",
    "                      for i in np.arange(0, 256)]).astype(\"uint8\")\n",
    "\n",
    "    # apply gamma correction using the lookup table\n",
    "    return cv2.LUT(image, table)\n",
    "\n",
    "\n",
    "def process(img):\n",
    "    result = random_gamma(img)\n",
    "    result = shadow(result)\n",
    "    result = resize(result, (80, 160, 3))\n",
    "    result = blur(result)\n",
    "    \n",
    "    #result = blur(img)\n",
    "    result = equal_Hist(result)\n",
    "\n",
    "    return result\n"
   ]
  },
  {
   "cell_type": "code",
   "execution_count": 3,
   "metadata": {
    "collapsed": true
   },
   "outputs": [],
   "source": [
    "import os\n",
    "import csv\n",
    "\n",
    "samples = []\n",
    "with open(BALANCED_FILE) as csvfile:\n",
    "    reader = csv.reader(csvfile)\n",
    "    \n",
    "    for line in reader:\n",
    "        samples.append(line)\n",
    "\n",
    "from sklearn.model_selection import train_test_split\n",
    "train_samples, validation_samples = train_test_split(samples[1:], test_size=0.2)\n",
    "\n",
    "import cv2\n",
    "import numpy as np\n",
    "import sklearn\n",
    "from sklearn.utils import shuffle"
   ]
  },
  {
   "cell_type": "code",
   "execution_count": 4,
   "metadata": {
    "collapsed": true
   },
   "outputs": [],
   "source": [
    "def load_data(lines, batch_size=32):\n",
    "    adjust_angle=[0, 0.2, -0.2]\n",
    "    while True:\n",
    "        shuffle(lines)\n",
    "        x_batch, y_batch = [], []\n",
    "        idx = 0\n",
    "        for line in lines:\n",
    "            #for i in range(3):\n",
    "            i = np.random.randint(0, 3)\n",
    "            name = FILEPATH+'IMG/'+line[i].split('/')[-1]\n",
    "            image = cv2.imread(name)\n",
    "            processed_image = process(image)\n",
    "            #print(np.array(processed_image).shape)\n",
    "\n",
    "            angle = float(line[3])\n",
    "\n",
    "            x_batch.append(processed_image)\n",
    "            y_batch.append(angle+adjust_angle[i])\n",
    "\n",
    "            x_batch.append(cv2.flip(processed_image,1))\n",
    "            y_batch.append((angle+adjust_angle[i])*-1.0)\n",
    "\n",
    "            idx += 1\n",
    "\n",
    "            if idx == batch_size:\n",
    "                yield np.array(x_batch), np.array(y_batch)\n",
    "                x_batch, y_batch = [], []\n",
    "                idx = 0\n",
    "\n",
    "train_generator = load_data(train_samples, batch_size=32)\n",
    "validation_generator = load_data(validation_samples, batch_size=32)"
   ]
  },
  {
   "cell_type": "code",
   "execution_count": 5,
   "metadata": {},
   "outputs": [
    {
     "data": {
      "text/plain": [
       "\"\\nfrom keras.models import Sequential\\nfrom keras.layers import Flatten, Dense, Lambda\\nfrom keras.layers import Conv2D, Dropout,\\nfrom keras.layers.pooling import MaxPooling2D\\nfrom keras.layers import Cropping2D\\n\\nmodel = Sequential()\\nmodel.add(Lambda(lambda x:x/255.0-0.5, input_shape=(80, 160, 3)))\\nmodel.add(Cropping2D(cropping=((35,12), (0,0))))\\n#model.add(Lambda(lambda x:x/255.0-0.5, input_shape=(160, 320, 3)))\\n#model.add(Cropping2D(cropping=((70,25), (0,0))))\\n\\nmodel.add(Conv2D(16,(3,3),activation='relu'))\\nmodel.add(MaxPooling2D(2,2))\\nmodel.add(Conv2D(32,(3,3),activation='relu'))\\nmodel.add(MaxPooling2D(2,2))\\nmodel.add(Conv2D(64,(3,3),activation='relu'))\\nmodel.add(MaxPooling2D(2,2))\\n\\nmodel.add(Flatten())\\nmodel.add(Dense(500))\\nmodel.add(Dropout(0.5))\\nmodel.add(Dense(100))\\nmodel.add(Dropout(0.5))\\nmodel.add(Dense(20))\\nmodel.add(Dense(1))\\n\\n#model.load_weights(MODELPATH)\\nmodel.compile(loss='mse', optimizer='adam')\\nmodel.fit_generator(train_generator, steps_per_epoch= len(train_samples), validation_data=validation_generator, nb_val_samples=len(validation_samples), nb_epoch=3)\\n\\nmodel.save(MODELPATH)\\n#exit()\\n\""
      ]
     },
     "execution_count": 5,
     "metadata": {},
     "output_type": "execute_result"
    }
   ],
   "source": [
    "\"\"\"\n",
    "from keras.models import Sequential\n",
    "from keras.layers import Flatten, Dense, Lambda\n",
    "from keras.layers import Conv2D, Dropout,\n",
    "from keras.layers.pooling import MaxPooling2D\n",
    "from keras.layers import Cropping2D\n",
    "\n",
    "model = Sequential()\n",
    "model.add(Lambda(lambda x:x/255.0-0.5, input_shape=(80, 160, 3)))\n",
    "model.add(Cropping2D(cropping=((35,12), (0,0))))\n",
    "#model.add(Lambda(lambda x:x/255.0-0.5, input_shape=(160, 320, 3)))\n",
    "#model.add(Cropping2D(cropping=((70,25), (0,0))))\n",
    "\n",
    "model.add(Conv2D(16,(3,3),activation='relu'))\n",
    "model.add(MaxPooling2D(2,2))\n",
    "model.add(Conv2D(32,(3,3),activation='relu'))\n",
    "model.add(MaxPooling2D(2,2))\n",
    "model.add(Conv2D(64,(3,3),activation='relu'))\n",
    "model.add(MaxPooling2D(2,2))\n",
    "\n",
    "model.add(Flatten())\n",
    "model.add(Dense(500))\n",
    "model.add(Dropout(0.5))\n",
    "model.add(Dense(100))\n",
    "model.add(Dropout(0.5))\n",
    "model.add(Dense(20))\n",
    "model.add(Dense(1))\n",
    "\n",
    "#model.load_weights(MODELPATH)\n",
    "model.compile(loss='mse', optimizer='adam')\n",
    "model.fit_generator(train_generator, steps_per_epoch= len(train_samples), validation_data=validation_generator, nb_val_samples=len(validation_samples), nb_epoch=3)\n",
    "\n",
    "model.save(MODELPATH)\n",
    "#exit()\n",
    "\"\"\""
   ]
  },
  {
   "cell_type": "code",
   "execution_count": 6,
   "metadata": {
    "scrolled": true
   },
   "outputs": [
    {
     "name": "stderr",
     "output_type": "stream",
     "text": [
      "Using TensorFlow backend.\n",
      "/home/vincent/anaconda3/envs/tensorflow/lib/python3.6/site-packages/ipykernel_launcher.py:12: UserWarning: Update your `Conv2D` call to the Keras 2 API: `Conv2D(24, (5, 5), strides=(2, 2), padding=\"same\")`\n",
      "  if sys.path[0] == '':\n",
      "/home/vincent/anaconda3/envs/tensorflow/lib/python3.6/site-packages/ipykernel_launcher.py:16: UserWarning: Update your `Conv2D` call to the Keras 2 API: `Conv2D(36, (5, 5), strides=(2, 2), padding=\"same\")`\n",
      "  app.launch_new_instance()\n",
      "/home/vincent/anaconda3/envs/tensorflow/lib/python3.6/site-packages/ipykernel_launcher.py:20: UserWarning: Update your `Conv2D` call to the Keras 2 API: `Conv2D(48, (5, 5), strides=(2, 2), padding=\"same\")`\n",
      "/home/vincent/anaconda3/envs/tensorflow/lib/python3.6/site-packages/ipykernel_launcher.py:24: UserWarning: Update your `Conv2D` call to the Keras 2 API: `Conv2D(64, (3, 3), strides=(1, 1), padding=\"same\")`\n",
      "/home/vincent/anaconda3/envs/tensorflow/lib/python3.6/site-packages/ipykernel_launcher.py:28: UserWarning: Update your `Conv2D` call to the Keras 2 API: `Conv2D(64, (3, 3), strides=(1, 1), padding=\"same\")`\n",
      "/home/vincent/anaconda3/envs/tensorflow/lib/python3.6/site-packages/ipykernel_launcher.py:57: UserWarning: Update your `fit_generator` call to the Keras 2 API: `fit_generator(<generator..., steps_per_epoch=1459, validation_data=<generator..., callbacks=[<keras.ca..., epochs=20, validation_steps=3650)`\n"
     ]
    },
    {
     "name": "stdout",
     "output_type": "stream",
     "text": [
      "Epoch 1/20\n",
      "1459/1459 [==============================] - 435s - loss: 0.0667 - val_loss: 0.0597\n",
      "Epoch 2/20\n",
      "1459/1459 [==============================] - 418s - loss: 0.0559 - val_loss: 0.0575\n",
      "Epoch 3/20\n",
      "1459/1459 [==============================] - 416s - loss: 0.0545 - val_loss: 0.0539\n",
      "Epoch 4/20\n",
      "1459/1459 [==============================] - 416s - loss: 0.0524 - val_loss: 0.0529\n",
      "Epoch 5/20\n",
      "1459/1459 [==============================] - 419s - loss: 0.0518 - val_loss: 0.0532\n",
      "Epoch 6/20\n",
      "1459/1459 [==============================] - 419s - loss: 0.0503 - val_loss: 0.0516\n",
      "Epoch 7/20\n",
      "1459/1459 [==============================] - 421s - loss: 0.0492 - val_loss: 0.0511\n",
      "Epoch 8/20\n",
      "1459/1459 [==============================] - 428s - loss: 0.0484 - val_loss: 0.0503\n",
      "Epoch 9/20\n",
      "1459/1459 [==============================] - 428s - loss: 0.0479 - val_loss: 0.0526\n",
      "Epoch 10/20\n",
      "1459/1459 [==============================] - 427s - loss: 0.0474 - val_loss: 0.0507\n",
      "Epoch 11/20\n",
      "1459/1459 [==============================] - 415s - loss: 0.0472 - val_loss: 0.0490\n",
      "Epoch 12/20\n",
      "1459/1459 [==============================] - 421s - loss: 0.0465 - val_loss: 0.0505\n",
      "Epoch 13/20\n",
      "1459/1459 [==============================] - 425s - loss: 0.0462 - val_loss: 0.0492\n",
      "Epoch 14/20\n",
      "1459/1459 [==============================] - 421s - loss: 0.0464 - val_loss: 0.0486\n",
      "Epoch 15/20\n",
      "1459/1459 [==============================] - 426s - loss: 0.0454 - val_loss: 0.0486\n",
      "Epoch 16/20\n",
      "1459/1459 [==============================] - 417s - loss: 0.0456 - val_loss: 0.0478\n",
      "Epoch 17/20\n",
      "1459/1459 [==============================] - 417s - loss: 0.0447 - val_loss: 0.0479\n",
      "Epoch 18/20\n",
      "1459/1459 [==============================] - 417s - loss: 0.0452 - val_loss: 0.0490\n",
      "Epoch 19/20\n",
      "1459/1459 [==============================] - 417s - loss: 0.0441 - val_loss: 0.0472\n",
      "Epoch 20/20\n",
      "1459/1459 [==============================] - 417s - loss: 0.0438 - val_loss: 0.0476\n"
     ]
    },
    {
     "data": {
      "text/plain": [
       "<keras.callbacks.History at 0x7f86a64b5588>"
      ]
     },
     "execution_count": 6,
     "metadata": {},
     "output_type": "execute_result"
    }
   ],
   "source": [
    "from keras.models import Sequential\n",
    "from keras.layers import Flatten, Dense, Lambda\n",
    "from keras.layers import Conv2D, Dropout,Convolution2D,Activation\n",
    "from keras.layers.pooling import MaxPooling2D\n",
    "from keras.layers import Cropping2D\n",
    "from keras.callbacks import ModelCheckpoint\n",
    "\n",
    "model = Sequential()\n",
    "model.add(Lambda(lambda x:x/255.0-0.5, input_shape=(80, 160, 3)))\n",
    "model.add(Cropping2D(cropping=((35,12), (0,0))))\n",
    "\n",
    "model.add(Convolution2D(24, 5, 5, border_mode='same', subsample=(2, 2)))\n",
    "model.add(Activation(activation=\"relu\"))\n",
    "model.add(MaxPooling2D(pool_size=(2, 2), strides=(1, 1)))\n",
    "\n",
    "model.add(Convolution2D(36, 5, 5, border_mode='same', subsample=(2, 2)))\n",
    "model.add(Activation(activation='relu'))\n",
    "model.add(MaxPooling2D(pool_size=(2, 2), strides=(1, 1)))\n",
    "\n",
    "model.add(Convolution2D(48, 5, 5, border_mode='same', subsample=(2, 2)))\n",
    "model.add(Activation(activation=\"relu\"))\n",
    "model.add(MaxPooling2D(pool_size=(2, 2), strides=(1, 1)))\n",
    "\n",
    "model.add(Convolution2D(64, 3, 3, border_mode='same', subsample=(1, 1)))\n",
    "model.add(Activation(activation=\"relu\"))\n",
    "model.add(MaxPooling2D(pool_size=(2, 2), strides=(1, 1)))\n",
    "\n",
    "model.add(Convolution2D(64, 3, 3, border_mode='same', subsample=(1, 1)))\n",
    "model.add(Activation(activation=\"relu\"))\n",
    "model.add(MaxPooling2D(pool_size=(2, 2), strides=(1, 1)))\n",
    "\n",
    "model.add(Flatten())\n",
    "\n",
    "# Next, five fully connected layers\n",
    "model.add(Dense(1024))\n",
    "model.add(Activation(activation=\"relu\"))\n",
    "model.add(Dropout(0.5))\n",
    "\n",
    "model.add(Dense(500))\n",
    "model.add(Activation(activation=\"relu\"))\n",
    "\n",
    "model.add(Dense(100))\n",
    "model.add(Activation(activation=\"relu\"))\n",
    "\n",
    "model.add(Dense(10))\n",
    "model.add(Activation(activation=\"relu\"))\n",
    "\n",
    "model.add(Dense(1))\n",
    "    \n",
    "checkpointer = ModelCheckpoint(FILEPATH+'weights.{epoch:02d}-{val_loss:.2f}.hdf5', monitor='val_loss', verbose=0, save_best_only=False, save_weights_only=False, mode='auto', period=1)\n",
    "\n",
    "\n",
    "#model.load_weights(MODELPATH)\n",
    "model.compile(loss='mse', optimizer='adam')\n",
    "model.fit_generator(train_generator, steps_per_epoch= int(len(train_samples)/10), \n",
    "                    validation_data=validation_generator, nb_val_samples=len(validation_samples),\n",
    "                    nb_epoch=20, callbacks=[checkpointer])\n",
    "\n",
    "#model.save(MODELPATH)\n",
    "#exit()"
   ]
  },
  {
   "cell_type": "code",
   "execution_count": 7,
   "metadata": {
    "collapsed": true
   },
   "outputs": [],
   "source": [
    "exit()"
   ]
  },
  {
   "cell_type": "code",
   "execution_count": null,
   "metadata": {
    "collapsed": true
   },
   "outputs": [],
   "source": []
  }
 ],
 "metadata": {
  "kernelspec": {
   "display_name": "Python 3",
   "language": "python",
   "name": "python3"
  },
  "language_info": {
   "codemirror_mode": {
    "name": "ipython",
    "version": 3
   },
   "file_extension": ".py",
   "mimetype": "text/x-python",
   "name": "python",
   "nbconvert_exporter": "python",
   "pygments_lexer": "ipython3",
   "version": "3.6.2"
  }
 },
 "nbformat": 4,
 "nbformat_minor": 2
}
